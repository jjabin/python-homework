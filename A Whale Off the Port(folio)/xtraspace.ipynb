import pandas as pd
import numpy as np
import datetime as dt
from pathlib import Path
%matplotlib inline

whale_returns_csv = Path("Resources/whale_returns.csv")
whale_csv = pd.read_csv(whale_returns_csv,  index_col="Date", parse_dates=True, infer_datetime_format=True)

whale_csv.dropna(inplace=True)
# YOUR CODE HERE
whale_csv.sort_index(ascending = True, inplace = True)
whale_csv.head()
