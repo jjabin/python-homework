import pandas as pd
import numpy as np
import datetime as dt
from pathlib import Path
%matplotlib inline
