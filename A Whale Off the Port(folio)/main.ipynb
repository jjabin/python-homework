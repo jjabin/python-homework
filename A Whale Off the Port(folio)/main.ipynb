import pandas as pd
import numpy as np
import datetime as dt
from pathlib import Path
import csv
%matplotlib inline

whale_returns_csv = Path("Resources/whale_returns.csv")
sp500_history_csv = Path("Resources/sp500_history.csv")
goog_historical_csv = Path("Resources/goog_historical.csv")
cost_historical_csv = Path("Resources/cost_historical.csv")
algo_returns_csv = Path("Resources/algo_returns.csv")
appl_historical_csv = Path("Resources/aapl_historical.csv")

whale_csv = pd.read_csv(whale_returns_csv,  infer_datetime_format=True, )
sp500_csv = pd.read_csv(sp500_history_csv,  infer_datetime_format=True, )
goog_csv = pd.read_csv(goog_historical_csv,  infer_datetime_format=True, )
cost_csv = pd.read_csv(cost_historical_csv,  infer_datetime_format=True, )
algo_csv = pd.read_csv(algo_returns_csv,  infer_datetime_format=True, )
appl_csv = pd.read_csv(appl_historical_csv,  infer_datetime_format=True, )

whale_csv = whale_csv.drop(columns=['Date'])
sp500_csv = sp500_csv.drop(columns=['Date'])
goog_csv = goog_csv.drop(columns=['Symbol','Trade DATE'])
cost_csv = cost_csv.drop(columns=['Symbol','Trade DATE'])
algo_csv = algo_csv.drop(columns=['Date'])
appl_csv = appl_csv.drop(columns=['Symbol','Trade DATE'])

df_comb.set_index(pd.to_datetime(df_comb['Date'], infer_datetime_format=True), inplace=True)

df_comb = df_comb.drop(columns=['Date'])
df_comb = df_comb.sort_index()
df_comb = df_comb.dropna()
df_comb

combined = [whale_csv,goog_csv,cost_csv,algo_csv,appl_csv,sp500_csv]
df = pd.DataFrame(combined, columns = ['Date'])
df_comb = pd.concat(combined, axis="columns", join="inner", ignore_index=True )
df_comb

df['Date'] =  pd.to_datetime(df['Date'], format='%Y%m%d')
