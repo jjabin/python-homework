import pandas as pd
import numpy as np
import datetime as dt
from pathlib import Path
%matplotlib inline

whale_returns_csv = Path("Resources/whale_returns.csv")
whale_csv = pd.read_csv(whale_returns_csv,  index_col="Date", parse_dates=True, infer_datetime_format=True)

whale_csv.dropna(inplace=True)
# YOUR CODE HERE
whale_csv.sort_index(ascending = True, inplace = True)
whale_csv.head()

whale_csv.isnull().sum()

algo_returns_csv = Path("Resources/algo_returns.csv")
algo_csv = pd.read_csv(algo_returns_csv,  index_col="Date", parse_dates=True, infer_datetime_format=True)
algo_csv.dropna(inplace=True)
algo_csv.sort_index(ascending = True, inplace = True)
algo_csv.head()


sp500_history_csv = Path("Resources/sp500_history.csv")
sp500_csv = pd.read_csv(sp500_history_csv,  index_col="Date", parse_dates=True, infer_datetime_format=True)
sp500_csv.dropna(inplace=True)
sp500_csv.sort_index(ascending = True, inplace = True)
sp500_csv.head()

sp500_csv.dtypes

sp500_csv["Close"]= sp500_csv["Close"].str.replace('$','').astype("float")
sp500_csv.sort_index(inplace = True)
sp500_csv

sp500_returns = sp500_csv.pct_change()
sp500_returns.dropna(inplace=True)
sp500_returns.rename(columns = {"Close":"sp500"}, inplace = True)

sp500_returns

combined = [whale_csv, algo_csv, sp500_returns]
#df = pd.DataFrame(combined, columns = ['Date'])
df_comb = pd.concat(combined, axis = "columns",join = "inner")
#df_comb = pd.concat(combined, axis="columns", join="inner")
#df_comb.sort_index()
df_comb

df_comb.plot(figsize = (20,15))

df = (1 + df_comb).cumprod()
df.plot(figsize = (20,10))

df.plot(kind = "box", figsize = (20,10))
df_std = pd.DataFrame(df.std()).rename(columns = {0:"std"})
df_std

higher_std = df_std[df_std["std"] > df_std.loc["sp500", "std"]]
higher_std

df_annualized_std = df_std*np.sqrt(252)
df_annualized_std

sp500_r21 = df[["sp500"]].rolling(window = 21).std()
sp500_r21.plot(figsize = (20,10))

cor_sp500 = pd.DataFrame(df.corr()).loc[:,"sp500"]
cor_sp500[cor_sp500==cor_sp500[cor_sp500<1].max()]

df.plot(kind="scatter", y = "Algo 2", x = "sp500", figsize = (20,10))

rolling_cv = df['BERKSHIRE HATHAWAY INC'].rolling(window=60).cov(df['sp500'])
rolling_v = df['sp500'].rolling(window=60).var()
rolling_beta = rolling_cv / rolling_v
rolling_beta.plot(figsize=(20, 10), title='Rolling 60-Day Beta of BH')

sharpe_ratios = df.mean()*252/(df.std()*np.sqrt(252))
sharpe_ratios

sharpe_ratios.plot(kind = "bar",)

tsla_csv = Path("Resources/tsla_year.csv")
tsla = pd.read_csv(tsla_csv,  index_col="Date", parse_dates=True, infer_datetime_format=True)
tsla.sort_index(ascending = True, inplace = True)
tsla.rename(columns={"Date":"Date","Close": "tsla"},inplace=True)

tsla.dropna(inplace=True)
f_csv = Path("Resources/f_year.csv")
f = pd.read_csv(f_csv,  index_col="Date", parse_dates=True, infer_datetime_format=True)
f
f.dropna(inplace=True)
f.rename(columns={"Date":"Date","Close": "f"},inplace=True)


f.sort_index(ascending = True, inplace = True)
f.head()

nvda_csv = Path("Resources/nvda_year.csv")
nvda = pd.read_csv(nvda_csv,  index_col="Date", parse_dates=True, infer_datetime_format=True)
nvda
nvda.dropna(inplace=True)
nvda.rename(columns={"Date":"Date","Close": "nvda"},inplace=True)

nvda.sort_index(ascending = True, inplace = True)
nvda.head()

msft_csv = Path("Resources/msft_year.csv")
msft = pd.read_csv(msft_csv,  index_col="Date", parse_dates=True, infer_datetime_format=True)
msft
msft.dropna(inplace=True)
msft.rename(columns={"Date":"Date","Close": "msft"},inplace=True)

# YOUR CODE HERE
msft.sort_index(ascending = True, inplace = True)
msft.head()

c_combined = [tsla,msft,nvda,f]
c_comb = pd.concat([tsla,msft,nvda,f], axis = "columns",join = "inner")
c_comb = c_comb.reset_index()
c_comb = c_comb.pivot_table(index="Date")

c_comb

c_comb_returns = c_comb_returns.reset_index()

c_comb_returns = c_comb.pct_change()
c_comb_returns.dropna(inplace=True)

c_comb_returns

weights = [1/5, 1/5, 1/5 ,1/5 ,1/5]
portfolios = [df_comb,c_comb_returns]
#df = pd.DataFrame(combined, columns = ['Date'])
port_comb = port_comb.reset_index()


port_comb = pd.concat(portfolios, axis = "columns", join="inner")

port_comb.head()

port_std = pd.DataFrame(port_comb.std()).rename(columns = {0:"std"})
port_std
