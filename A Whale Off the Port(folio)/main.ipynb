import pandas as pd
import numpy as np
import datetime as dt
from pathlib import Path
import csv
%matplotlib inline

whale_returns_csv = Path("Resources/whale_returns.csv")
sp500_history_csv = Path("Resources/sp500_history.csv")
goog_historical_csv = Path("Resources/goog_historical.csv")
cost_historical_csv = Path("Resources/cost_historical.csv")
algo_returns_csv = Path("Resources/algo_returns.csv")
appl_historical_csv = Path("Resources/aapl_historical.csv")

whale_csv = pd.read_csv(whale_returns_csv,  infer_datetime_format=True, )
sp500_csv = pd.read_csv(sp500_history_csv,  infer_datetime_format=True, )
goog_csv = pd.read_csv(goog_historical_csv,  infer_datetime_format=True, )
cost_csv = pd.read_csv(cost_historical_csv,  infer_datetime_format=True, )
algo_csv = pd.read_csv(algo_returns_csv,  infer_datetime_format=True, )
appl_csv = pd.read_csv(appl_historical_csv,  infer_datetime_format=True, )

combined = [whale_csv,sp500_csv,goog_csv,cost_csv,algo_csv,appl_csv]
df = pd.DataFrame(combined, columns = ['Date'])
df_comb = pd.concat(combined, axis="columns", join="inner", ignore_index=True )
df_comb

df['Date'] =  pd.to_datetime(df['Date'], format='%Y%m%d')
