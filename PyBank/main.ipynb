import os
import pandas as pd

import csv

csvpath = os.path.join("budget_data.csv")

cwkdir = os.getcwd()


