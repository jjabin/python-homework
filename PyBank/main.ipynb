import os
import csv

cwkdir = os.getcwd()

csvpath = os.path.join("budget_data.csv")

value = 0
month_count = 0
total = 0 
avg_change = 0
prof_plus = 0
prof_min = 0

with open(csvpath, newline="") as csvfile:
    csvreader = csv.reader(csvfile, delimiter=",")
    csv_header = next(csvreader)
    
    for i in csvreader:
        Date = i[0]
        Amount = i[1]
        iAmount = int(Amount)
        avg_change =  iAmount - value
        
        if prof_plus < avg_change:
            prof_plus = avg_change
            profplusavg = Date
        
        if prof_min > avg_change:
            prof_min = avg_change
            profminavg = Date
     
        month_count = month_count + 1
        total += int(Amount)
        value = iAmount    
    
print(f"Total Months: {month_count}")
print(f'Total: $ {total}')
print(f'Greatest Increase in Profits: {profplusavg} : ($ {prof_plus})')
print(f'Greatest Decrease in Profits: {profminavg} : ($ {prof_min})')
